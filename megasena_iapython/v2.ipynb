{
 "cells": [
  {
   "cell_type": "markdown",
   "metadata": {},
   "source": [
    "# Importando bibliotecas"
   ]
  },
  {
   "cell_type": "code",
   "execution_count": 1,
   "metadata": {},
   "outputs": [],
   "source": [
    "import pandas              as pd\n",
    "import numpy               as np\n",
    "import matplotlib.pyplot   as plt\n",
    "import seaborn             as sns\n",
    "import missingno           as msno\n",
    "import numpy               as np\n",
    "\n",
    "%matplotlib inline\n",
    "\n",
    "pd.set_option('display.max_columns',500)"
   ]
  },
  {
   "cell_type": "markdown",
   "metadata": {},
   "source": [
    "# Carregando dataset"
   ]
  },
  {
   "cell_type": "code",
   "execution_count": 2,
   "metadata": {},
   "outputs": [
    {
     "data": {
      "text/html": [
       "<div>\n",
       "<style scoped>\n",
       "    .dataframe tbody tr th:only-of-type {\n",
       "        vertical-align: middle;\n",
       "    }\n",
       "\n",
       "    .dataframe tbody tr th {\n",
       "        vertical-align: top;\n",
       "    }\n",
       "\n",
       "    .dataframe thead th {\n",
       "        text-align: right;\n",
       "    }\n",
       "</style>\n",
       "<table border=\"1\" class=\"dataframe\">\n",
       "  <thead>\n",
       "    <tr style=\"text-align: right;\">\n",
       "      <th></th>\n",
       "      <th>Concurso</th>\n",
       "      <th>Data Sorteio</th>\n",
       "      <th>primeira_dezena</th>\n",
       "      <th>segunda_dezena</th>\n",
       "      <th>terceira_dezena</th>\n",
       "      <th>quarta_dezena</th>\n",
       "      <th>quinta_dezena</th>\n",
       "      <th>sexta_dezena</th>\n",
       "      <th>Arrecadacao_Total</th>\n",
       "      <th>Ganhadores_Sena</th>\n",
       "      <th>Cidade</th>\n",
       "      <th>UF</th>\n",
       "      <th>Rateio_Sena</th>\n",
       "      <th>Ganhadores_Quina</th>\n",
       "      <th>Rateio_Quina</th>\n",
       "      <th>Ganhadores_Quadra</th>\n",
       "      <th>Rateio_Quadra</th>\n",
       "      <th>Acumulado</th>\n",
       "      <th>Valor_Acumulado</th>\n",
       "      <th>Estimativa_Prêmio</th>\n",
       "      <th>Acumulado_Mega_da_Virada</th>\n",
       "    </tr>\n",
       "  </thead>\n",
       "  <tbody>\n",
       "    <tr>\n",
       "      <th>0</th>\n",
       "      <td>1.0</td>\n",
       "      <td>11/03/1996</td>\n",
       "      <td>41.0</td>\n",
       "      <td>5.0</td>\n",
       "      <td>4.0</td>\n",
       "      <td>52.0</td>\n",
       "      <td>30.0</td>\n",
       "      <td>33.0</td>\n",
       "      <td>0.0</td>\n",
       "      <td>0.0</td>\n",
       "      <td>NaN</td>\n",
       "      <td>NaN</td>\n",
       "      <td>0.00</td>\n",
       "      <td>17.0</td>\n",
       "      <td>39158.92</td>\n",
       "      <td>2016.0</td>\n",
       "      <td>330.21</td>\n",
       "      <td>SIM</td>\n",
       "      <td>1714650.23</td>\n",
       "      <td>0.0</td>\n",
       "      <td>0.0</td>\n",
       "    </tr>\n",
       "    <tr>\n",
       "      <th>1</th>\n",
       "      <td>2.0</td>\n",
       "      <td>18/03/1996</td>\n",
       "      <td>9.0</td>\n",
       "      <td>39.0</td>\n",
       "      <td>37.0</td>\n",
       "      <td>49.0</td>\n",
       "      <td>43.0</td>\n",
       "      <td>41.0</td>\n",
       "      <td>0.0</td>\n",
       "      <td>1.0</td>\n",
       "      <td>NaN</td>\n",
       "      <td>PR</td>\n",
       "      <td>2307162.23</td>\n",
       "      <td>65.0</td>\n",
       "      <td>14424.02</td>\n",
       "      <td>4488.0</td>\n",
       "      <td>208.91</td>\n",
       "      <td>NÃO</td>\n",
       "      <td>0.00</td>\n",
       "      <td>0.0</td>\n",
       "      <td>0.0</td>\n",
       "    </tr>\n",
       "    <tr>\n",
       "      <th>2</th>\n",
       "      <td>3.0</td>\n",
       "      <td>25/03/1996</td>\n",
       "      <td>36.0</td>\n",
       "      <td>30.0</td>\n",
       "      <td>10.0</td>\n",
       "      <td>11.0</td>\n",
       "      <td>29.0</td>\n",
       "      <td>47.0</td>\n",
       "      <td>0.0</td>\n",
       "      <td>2.0</td>\n",
       "      <td>NaN</td>\n",
       "      <td>RN</td>\n",
       "      <td>391192.51</td>\n",
       "      <td>62.0</td>\n",
       "      <td>10515.93</td>\n",
       "      <td>4261.0</td>\n",
       "      <td>153.01</td>\n",
       "      <td>NÃO</td>\n",
       "      <td>0.00</td>\n",
       "      <td>0.0</td>\n",
       "      <td>0.0</td>\n",
       "    </tr>\n",
       "    <tr>\n",
       "      <th>3</th>\n",
       "      <td>NaN</td>\n",
       "      <td>NaN</td>\n",
       "      <td>NaN</td>\n",
       "      <td>NaN</td>\n",
       "      <td>NaN</td>\n",
       "      <td>NaN</td>\n",
       "      <td>NaN</td>\n",
       "      <td>NaN</td>\n",
       "      <td>NaN</td>\n",
       "      <td>NaN</td>\n",
       "      <td>NaN</td>\n",
       "      <td>SP</td>\n",
       "      <td>NaN</td>\n",
       "      <td>NaN</td>\n",
       "      <td>NaN</td>\n",
       "      <td>NaN</td>\n",
       "      <td>NaN</td>\n",
       "      <td>NaN</td>\n",
       "      <td>NaN</td>\n",
       "      <td>NaN</td>\n",
       "      <td>NaN</td>\n",
       "    </tr>\n",
       "    <tr>\n",
       "      <th>4</th>\n",
       "      <td>4.0</td>\n",
       "      <td>01/04/1996</td>\n",
       "      <td>6.0</td>\n",
       "      <td>59.0</td>\n",
       "      <td>42.0</td>\n",
       "      <td>27.0</td>\n",
       "      <td>1.0</td>\n",
       "      <td>5.0</td>\n",
       "      <td>0.0</td>\n",
       "      <td>0.0</td>\n",
       "      <td>NaN</td>\n",
       "      <td>NaN</td>\n",
       "      <td>0.00</td>\n",
       "      <td>39.0</td>\n",
       "      <td>15322.24</td>\n",
       "      <td>3311.0</td>\n",
       "      <td>180.48</td>\n",
       "      <td>SIM</td>\n",
       "      <td>717080.75</td>\n",
       "      <td>0.0</td>\n",
       "      <td>0.0</td>\n",
       "    </tr>\n",
       "  </tbody>\n",
       "</table>\n",
       "</div>"
      ],
      "text/plain": [
       "   Concurso Data Sorteio  primeira_dezena  segunda_dezena  terceira_dezena  \\\n",
       "0       1.0   11/03/1996             41.0             5.0              4.0   \n",
       "1       2.0   18/03/1996              9.0            39.0             37.0   \n",
       "2       3.0   25/03/1996             36.0            30.0             10.0   \n",
       "3       NaN          NaN              NaN             NaN              NaN   \n",
       "4       4.0   01/04/1996              6.0            59.0             42.0   \n",
       "\n",
       "   quarta_dezena  quinta_dezena  sexta_dezena  Arrecadacao_Total  \\\n",
       "0           52.0           30.0          33.0                0.0   \n",
       "1           49.0           43.0          41.0                0.0   \n",
       "2           11.0           29.0          47.0                0.0   \n",
       "3            NaN            NaN           NaN                NaN   \n",
       "4           27.0            1.0           5.0                0.0   \n",
       "\n",
       "   Ganhadores_Sena Cidade   UF  Rateio_Sena  Ganhadores_Quina  Rateio_Quina  \\\n",
       "0              0.0    NaN  NaN         0.00              17.0      39158.92   \n",
       "1              1.0    NaN   PR   2307162.23              65.0      14424.02   \n",
       "2              2.0    NaN   RN    391192.51              62.0      10515.93   \n",
       "3              NaN    NaN   SP          NaN               NaN           NaN   \n",
       "4              0.0    NaN  NaN         0.00              39.0      15322.24   \n",
       "\n",
       "   Ganhadores_Quadra  Rateio_Quadra Acumulado  Valor_Acumulado  \\\n",
       "0             2016.0         330.21       SIM       1714650.23   \n",
       "1             4488.0         208.91       NÃO             0.00   \n",
       "2             4261.0         153.01       NÃO             0.00   \n",
       "3                NaN            NaN       NaN              NaN   \n",
       "4             3311.0         180.48       SIM        717080.75   \n",
       "\n",
       "   Estimativa_Prêmio  Acumulado_Mega_da_Virada  \n",
       "0                0.0                       0.0  \n",
       "1                0.0                       0.0  \n",
       "2                0.0                       0.0  \n",
       "3                NaN                       NaN  \n",
       "4                0.0                       0.0  "
      ]
     },
     "execution_count": 2,
     "metadata": {},
     "output_type": "execute_result"
    }
   ],
   "source": [
    "df             = pd.read_excel('/ambiente/datasciece-dev/dataset-megasena/resultados.xlsx')\n",
    "df.head()"
   ]
  },
  {
   "cell_type": "markdown",
   "metadata": {},
   "source": [
    "# Check dataset"
   ]
  },
  {
   "cell_type": "code",
   "execution_count": 3,
   "metadata": {},
   "outputs": [
    {
     "data": {
      "text/plain": [
       "(2258, 21)"
      ]
     },
     "execution_count": 3,
     "metadata": {},
     "output_type": "execute_result"
    }
   ],
   "source": [
    "df.shape"
   ]
  },
  {
   "cell_type": "code",
   "execution_count": 4,
   "metadata": {},
   "outputs": [
    {
     "data": {
      "text/plain": [
       "Concurso                    float64\n",
       "Data Sorteio                 object\n",
       "primeira_dezena             float64\n",
       "segunda_dezena              float64\n",
       "terceira_dezena             float64\n",
       "quarta_dezena               float64\n",
       "quinta_dezena               float64\n",
       "sexta_dezena                float64\n",
       "Arrecadacao_Total           float64\n",
       "Ganhadores_Sena             float64\n",
       "Cidade                       object\n",
       "UF                           object\n",
       "Rateio_Sena                 float64\n",
       "Ganhadores_Quina            float64\n",
       "Rateio_Quina                float64\n",
       "Ganhadores_Quadra           float64\n",
       "Rateio_Quadra               float64\n",
       "Acumulado                    object\n",
       "Valor_Acumulado             float64\n",
       "Estimativa_Prêmio           float64\n",
       "Acumulado_Mega_da_Virada    float64\n",
       "dtype: object"
      ]
     },
     "execution_count": 4,
     "metadata": {},
     "output_type": "execute_result"
    }
   ],
   "source": [
    "df.dtypes"
   ]
  },
  {
   "cell_type": "markdown",
   "metadata": {},
   "source": [
    "# Transformando dados"
   ]
  },
  {
   "cell_type": "code",
   "execution_count": 5,
   "metadata": {},
   "outputs": [],
   "source": [
    "# Vamos criar uma coluna para armazenar a data e converte-la para datetime\n",
    "\n",
    "df['data_sorteio_conv'] = df.iloc[:,1]\n",
    "df.data_sorteio_conv = pd.to_datetime(df.data_sorteio_conv)\n",
    "\n",
    "# Vamos quebrar a data em Dia, Mês e Ano\n",
    "df['day']   = df.data_sorteio_conv.dt.day\n",
    "df['month'] = df.data_sorteio_conv.dt.month \n",
    "df['year']  = df.data_sorteio_conv.dt.year"
   ]
  },
  {
   "cell_type": "code",
   "execution_count": 6,
   "metadata": {},
   "outputs": [
    {
     "data": {
      "text/html": [
       "<div>\n",
       "<style scoped>\n",
       "    .dataframe tbody tr th:only-of-type {\n",
       "        vertical-align: middle;\n",
       "    }\n",
       "\n",
       "    .dataframe tbody tr th {\n",
       "        vertical-align: top;\n",
       "    }\n",
       "\n",
       "    .dataframe thead th {\n",
       "        text-align: right;\n",
       "    }\n",
       "</style>\n",
       "<table border=\"1\" class=\"dataframe\">\n",
       "  <thead>\n",
       "    <tr style=\"text-align: right;\">\n",
       "      <th></th>\n",
       "      <th>Concurso</th>\n",
       "      <th>Data Sorteio</th>\n",
       "      <th>primeira_dezena</th>\n",
       "      <th>segunda_dezena</th>\n",
       "      <th>terceira_dezena</th>\n",
       "      <th>quarta_dezena</th>\n",
       "      <th>quinta_dezena</th>\n",
       "      <th>sexta_dezena</th>\n",
       "      <th>Arrecadacao_Total</th>\n",
       "      <th>Ganhadores_Sena</th>\n",
       "      <th>Cidade</th>\n",
       "      <th>UF</th>\n",
       "      <th>Rateio_Sena</th>\n",
       "      <th>Ganhadores_Quina</th>\n",
       "      <th>Rateio_Quina</th>\n",
       "      <th>Ganhadores_Quadra</th>\n",
       "      <th>Rateio_Quadra</th>\n",
       "      <th>Acumulado</th>\n",
       "      <th>Valor_Acumulado</th>\n",
       "      <th>Estimativa_Prêmio</th>\n",
       "      <th>Acumulado_Mega_da_Virada</th>\n",
       "      <th>data_sorteio_conv</th>\n",
       "      <th>day</th>\n",
       "      <th>month</th>\n",
       "      <th>year</th>\n",
       "    </tr>\n",
       "  </thead>\n",
       "  <tbody>\n",
       "    <tr>\n",
       "      <th>1</th>\n",
       "      <td>2.0</td>\n",
       "      <td>18/03/1996</td>\n",
       "      <td>9.0</td>\n",
       "      <td>39.0</td>\n",
       "      <td>37.0</td>\n",
       "      <td>49.0</td>\n",
       "      <td>43.0</td>\n",
       "      <td>41.0</td>\n",
       "      <td>0.0</td>\n",
       "      <td>1.0</td>\n",
       "      <td>NaN</td>\n",
       "      <td>PR</td>\n",
       "      <td>2307162.23</td>\n",
       "      <td>65.0</td>\n",
       "      <td>14424.02</td>\n",
       "      <td>4488.0</td>\n",
       "      <td>208.91</td>\n",
       "      <td>NÃO</td>\n",
       "      <td>0.0</td>\n",
       "      <td>0.0</td>\n",
       "      <td>0.0</td>\n",
       "      <td>1996-03-18</td>\n",
       "      <td>18.0</td>\n",
       "      <td>3.0</td>\n",
       "      <td>1996.0</td>\n",
       "    </tr>\n",
       "    <tr>\n",
       "      <th>2</th>\n",
       "      <td>3.0</td>\n",
       "      <td>25/03/1996</td>\n",
       "      <td>36.0</td>\n",
       "      <td>30.0</td>\n",
       "      <td>10.0</td>\n",
       "      <td>11.0</td>\n",
       "      <td>29.0</td>\n",
       "      <td>47.0</td>\n",
       "      <td>0.0</td>\n",
       "      <td>2.0</td>\n",
       "      <td>NaN</td>\n",
       "      <td>RN</td>\n",
       "      <td>391192.51</td>\n",
       "      <td>62.0</td>\n",
       "      <td>10515.93</td>\n",
       "      <td>4261.0</td>\n",
       "      <td>153.01</td>\n",
       "      <td>NÃO</td>\n",
       "      <td>0.0</td>\n",
       "      <td>0.0</td>\n",
       "      <td>0.0</td>\n",
       "      <td>1996-03-25</td>\n",
       "      <td>25.0</td>\n",
       "      <td>3.0</td>\n",
       "      <td>1996.0</td>\n",
       "    </tr>\n",
       "    <tr>\n",
       "      <th>11</th>\n",
       "      <td>11.0</td>\n",
       "      <td>20/05/1996</td>\n",
       "      <td>25.0</td>\n",
       "      <td>15.0</td>\n",
       "      <td>58.0</td>\n",
       "      <td>37.0</td>\n",
       "      <td>59.0</td>\n",
       "      <td>38.0</td>\n",
       "      <td>0.0</td>\n",
       "      <td>1.0</td>\n",
       "      <td>NaN</td>\n",
       "      <td>RJ</td>\n",
       "      <td>15591365.07</td>\n",
       "      <td>148.0</td>\n",
       "      <td>12706.05</td>\n",
       "      <td>9442.0</td>\n",
       "      <td>199.16</td>\n",
       "      <td>NÃO</td>\n",
       "      <td>0.0</td>\n",
       "      <td>0.0</td>\n",
       "      <td>0.0</td>\n",
       "      <td>1996-05-20</td>\n",
       "      <td>20.0</td>\n",
       "      <td>5.0</td>\n",
       "      <td>1996.0</td>\n",
       "    </tr>\n",
       "    <tr>\n",
       "      <th>17</th>\n",
       "      <td>17.0</td>\n",
       "      <td>01/07/1996</td>\n",
       "      <td>10.0</td>\n",
       "      <td>20.0</td>\n",
       "      <td>6.0</td>\n",
       "      <td>19.0</td>\n",
       "      <td>51.0</td>\n",
       "      <td>13.0</td>\n",
       "      <td>0.0</td>\n",
       "      <td>1.0</td>\n",
       "      <td>NaN</td>\n",
       "      <td>SP</td>\n",
       "      <td>6789869.08</td>\n",
       "      <td>144.0</td>\n",
       "      <td>7628.37</td>\n",
       "      <td>9376.0</td>\n",
       "      <td>117.16</td>\n",
       "      <td>NÃO</td>\n",
       "      <td>0.0</td>\n",
       "      <td>0.0</td>\n",
       "      <td>0.0</td>\n",
       "      <td>1996-01-07</td>\n",
       "      <td>7.0</td>\n",
       "      <td>1.0</td>\n",
       "      <td>1996.0</td>\n",
       "    </tr>\n",
       "    <tr>\n",
       "      <th>24</th>\n",
       "      <td>24.0</td>\n",
       "      <td>19/08/1996</td>\n",
       "      <td>1.0</td>\n",
       "      <td>8.0</td>\n",
       "      <td>14.0</td>\n",
       "      <td>28.0</td>\n",
       "      <td>33.0</td>\n",
       "      <td>43.0</td>\n",
       "      <td>0.0</td>\n",
       "      <td>1.0</td>\n",
       "      <td>NaN</td>\n",
       "      <td>NaN</td>\n",
       "      <td>18661679.61</td>\n",
       "      <td>227.0</td>\n",
       "      <td>7897.31</td>\n",
       "      <td>13486.0</td>\n",
       "      <td>132.93</td>\n",
       "      <td>NÃO</td>\n",
       "      <td>0.0</td>\n",
       "      <td>0.0</td>\n",
       "      <td>0.0</td>\n",
       "      <td>1996-08-19</td>\n",
       "      <td>19.0</td>\n",
       "      <td>8.0</td>\n",
       "      <td>1996.0</td>\n",
       "    </tr>\n",
       "  </tbody>\n",
       "</table>\n",
       "</div>"
      ],
      "text/plain": [
       "    Concurso Data Sorteio  primeira_dezena  segunda_dezena  terceira_dezena  \\\n",
       "1        2.0   18/03/1996              9.0            39.0             37.0   \n",
       "2        3.0   25/03/1996             36.0            30.0             10.0   \n",
       "11      11.0   20/05/1996             25.0            15.0             58.0   \n",
       "17      17.0   01/07/1996             10.0            20.0              6.0   \n",
       "24      24.0   19/08/1996              1.0             8.0             14.0   \n",
       "\n",
       "    quarta_dezena  quinta_dezena  sexta_dezena  Arrecadacao_Total  \\\n",
       "1            49.0           43.0          41.0                0.0   \n",
       "2            11.0           29.0          47.0                0.0   \n",
       "11           37.0           59.0          38.0                0.0   \n",
       "17           19.0           51.0          13.0                0.0   \n",
       "24           28.0           33.0          43.0                0.0   \n",
       "\n",
       "    Ganhadores_Sena Cidade   UF  Rateio_Sena  Ganhadores_Quina  Rateio_Quina  \\\n",
       "1               1.0    NaN   PR   2307162.23              65.0      14424.02   \n",
       "2               2.0    NaN   RN    391192.51              62.0      10515.93   \n",
       "11              1.0    NaN   RJ  15591365.07             148.0      12706.05   \n",
       "17              1.0    NaN   SP   6789869.08             144.0       7628.37   \n",
       "24              1.0    NaN  NaN  18661679.61             227.0       7897.31   \n",
       "\n",
       "    Ganhadores_Quadra  Rateio_Quadra Acumulado  Valor_Acumulado  \\\n",
       "1              4488.0         208.91       NÃO              0.0   \n",
       "2              4261.0         153.01       NÃO              0.0   \n",
       "11             9442.0         199.16       NÃO              0.0   \n",
       "17             9376.0         117.16       NÃO              0.0   \n",
       "24            13486.0         132.93       NÃO              0.0   \n",
       "\n",
       "    Estimativa_Prêmio  Acumulado_Mega_da_Virada data_sorteio_conv   day  \\\n",
       "1                 0.0                       0.0        1996-03-18  18.0   \n",
       "2                 0.0                       0.0        1996-03-25  25.0   \n",
       "11                0.0                       0.0        1996-05-20  20.0   \n",
       "17                0.0                       0.0        1996-01-07   7.0   \n",
       "24                0.0                       0.0        1996-08-19  19.0   \n",
       "\n",
       "    month    year  \n",
       "1     3.0  1996.0  \n",
       "2     3.0  1996.0  \n",
       "11    5.0  1996.0  \n",
       "17    1.0  1996.0  \n",
       "24    8.0  1996.0  "
      ]
     },
     "execution_count": 6,
     "metadata": {},
     "output_type": "execute_result"
    }
   ],
   "source": [
    "# Vamos criar um dataframe para analisar os sorteios que tiveram ganhadores\n",
    "\n",
    "df_ganhadores = df[df['Acumulado'] == 'NÃO']\n",
    "\n",
    "df_ganhadores.head()"
   ]
  },
  {
   "cell_type": "markdown",
   "metadata": {},
   "source": [
    "# Higienizando nosso dataset"
   ]
  },
  {
   "cell_type": "code",
   "execution_count": 7,
   "metadata": {},
   "outputs": [
    {
     "data": {
      "text/plain": [
       "<matplotlib.axes._subplots.AxesSubplot at 0x7fcbfe67c940>"
      ]
     },
     "execution_count": 7,
     "metadata": {},
     "output_type": "execute_result"
    },
    {
     "data": {
      "image/png": "[encoded data removed]",
      "text/plain": [
       "<Figure size 1440x360 with 2 Axes>"
      ]
     },
     "metadata": {},
     "output_type": "display_data"
    }
   ],
   "source": [
    "# Visão geral do dataframe\n",
    "msno.matrix(df=df.iloc[:,0:df.shape[1]], figsize=(20, 5), color=(0.42, 0.1, 0.05))"
   ]
  },
  {
   "cell_type": "code",
   "execution_count": 8,
   "metadata": {},
   "outputs": [
    {
     "data": {
      "text/plain": [
       "<matplotlib.axes._subplots.AxesSubplot at 0x7fcbfc41ce48>"
      ]
     },
     "execution_count": 8,
     "metadata": {},
     "output_type": "execute_result"
    },
    {
     "data": {
      "image/png": "[encoded data removed]",
      "text/plain": [
       "<Figure size 1440x360 with 2 Axes>"
      ]
     },
     "metadata": {},
     "output_type": "display_data"
    }
   ],
   "source": [
    "# Removendo valores nulos \n",
    "df = df.dropna(subset=['Concurso'])\n",
    "msno.matrix(df=df.iloc[:,0:df.shape[1]], figsize=(20, 5), color=(0.42, 0.1, 0.05))"
   ]
  },
  {
   "cell_type": "code",
   "execution_count": 9,
   "metadata": {},
   "outputs": [
    {
     "data": {
      "text/plain": [
       "<matplotlib.axes._subplots.AxesSubplot at 0x7fcbfc5eada0>"
      ]
     },
     "execution_count": 9,
     "metadata": {},
     "output_type": "execute_result"
    },
    {
     "data": {
      "image/png": "[encoded data removed]",
      "text/plain": [
       "<Figure size 1440x360 with 2 Axes>"
      ]
     },
     "metadata": {},
     "output_type": "display_data"
    }
   ],
   "source": [
    "# Removendo colunas Cidade e UF\n",
    "df = df.drop(['Cidade', 'UF'], axis=1)\n",
    "msno.matrix(df=df.iloc[:,0:df.shape[1]], figsize=(20, 5), color=(0.42, 0.1, 0.05))"
   ]
  },
  {
   "cell_type": "markdown",
   "metadata": {},
   "source": [
    "# Exploratory Data Analysis"
   ]
  },
  {
   "cell_type": "markdown",
   "metadata": {},
   "source": [
    "### Analisando sorteo com ganhadores"
   ]
  },
  {
   "cell_type": "code",
   "execution_count": 10,
   "metadata": {},
   "outputs": [
    {
     "data": {
      "text/plain": [
       "<matplotlib.axes._subplots.AxesSubplot at 0x7fcbfe698860>"
      ]
     },
     "execution_count": 10,
     "metadata": {},
     "output_type": "execute_result"
    },
    {
     "data": {
      "image/png": "[encoded data removed]",
      "text/plain": [
       "<Figure size 1080x360 with 2 Axes>"
      ]
     },
     "metadata": {},
     "output_type": "display_data"
    }
   ],
   "source": [
    "# Ganhadores X Volume do Prêmio por Estado \n",
    "\n",
    "ax = df_ganhadores.groupby(['UF'])['Ganhadores_Sena'].agg('sum').sort_values(ascending=False).plot(kind='bar', title='Ganhadores por Estado', figsize=(15,5), fontsize=12, legend=True, position=1, color='gray')\n",
    "\n",
    "df_ganhadores.groupby(['UF'])['Rateio_Sena'].agg('sum').sort_values(ascending=False).plot(kind='bar', ax=ax, secondary_y=True, legend=True, position=0, color='blue')"
   ]
  },
  {
   "cell_type": "code",
   "execution_count": 11,
   "metadata": {},
   "outputs": [
    {
     "data": {
      "text/plain": [
       "<matplotlib.axes._subplots.AxesSubplot at 0x7fcbfe8afb38>"
      ]
     },
     "execution_count": 11,
     "metadata": {},
     "output_type": "execute_result"
    },
    {
     "data": {
      "image/png": "[encoded data removed]",
      "text/plain": [
       "<Figure size 1080x360 with 1 Axes>"
      ]
     },
     "metadata": {},
     "output_type": "display_data"
    }
   ],
   "source": [
    "# Ganhadores X Mes\n",
    "\n",
    "df_ganhadores.groupby(['month'])['Ganhadores_Sena'].agg('sum').plot(kind='bar', title='Ganhadores X Mês', fontsize=12, figsize=(15,5), legend=True, color='gray')"
   ]
  },
  {
   "cell_type": "markdown",
   "metadata": {},
   "source": [
    "### Analisando dezenas sorteadas"
   ]
  },
  {
   "cell_type": "code",
   "execution_count": 12,
   "metadata": {},
   "outputs": [
    {
     "data": {
      "text/plain": [
       "primeira_dezena  segunda_dezena  terceira_dezena  quarta_dezena  quinta_dezena  sexta_dezena\n",
       "60.0             58.0            49.0             32.0           20.0           34.0            1\n",
       "21.0             28.0            19.0             25.0           50.0           43.0            1\n",
       "20.0             58.0            10.0             59.0           57.0           5.0             1\n",
       "                 59.0            19.0             54.0           15.0           8.0             1\n",
       "                                 58.0             33.0           60.0           16.0            1\n",
       "21.0             7.0             5.0              53.0           45.0           4.0             1\n",
       "                 9.0             15.0             36.0           12.0           31.0            1\n",
       "                 10.0            47.0             6.0            5.0            33.0            1\n",
       "                 11.0            13.0             53.0           54.0           5.0             1\n",
       "                                 49.0             14.0           33.0           30.0            1\n",
       "                 16.0            4.0              37.0           2.0            58.0            1\n",
       "                 18.0            56.0             15.0           51.0           12.0            1\n",
       "                 23.0            20.0             7.0            29.0           15.0            1\n",
       "                                 56.0             12.0           3.0            2.0             1\n",
       "                 26.0            40.0             54.0           9.0            52.0            1\n",
       "                 31.0            56.0             55.0           45.0           27.0            1\n",
       "20.0             53.0            47.0             50.0           22.0           27.0            1\n",
       "21.0             33.0            28.0             31.0           43.0           6.0             1\n",
       "                 37.0            60.0             32.0           52.0           53.0            1\n",
       "                 40.0            51.0             27.0           24.0           2.0             1\n",
       "                 42.0            1.0              60.0           35.0           14.0            1\n",
       "                 46.0            6.0              22.0           13.0           31.0            1\n",
       "                 47.0            40.0             52.0           30.0           20.0            1\n",
       "                 48.0            33.0             1.0            56.0           17.0            1\n",
       "                 52.0            34.0             26.0           2.0            32.0            1\n",
       "                 54.0            10.0             50.0           51.0           11.0            1\n",
       "                 55.0            54.0             40.0           36.0           49.0            1\n",
       "                 56.0            36.0             9.0            13.0           27.0            1\n",
       "                 57.0            16.0             23.0           54.0           4.0             1\n",
       "                                 37.0             16.0           43.0           2.0             1\n",
       "                                                                                               ..\n",
       "41.0             49.0            36.0             42.0           31.0           38.0            1\n",
       "                 48.0            57.0             50.0           44.0           54.0            1\n",
       "40.0             48.0            19.0             20.0           14.0           52.0            1\n",
       "                 50.0            43.0             28.0           51.0           34.0            1\n",
       "                 52.0            38.0             16.0           7.0            41.0            1\n",
       "                 53.0            12.0             46.0           2.0            52.0            1\n",
       "                 58.0            30.0             32.0           15.0           22.0            1\n",
       "41.0             2.0             42.0             30.0           12.0           10.0            1\n",
       "                                 53.0             5.0            13.0           27.0            1\n",
       "                 3.0             10.0             30.0           57.0           13.0            1\n",
       "                 5.0             4.0              52.0           30.0           33.0            1\n",
       "                 6.0             23.0             55.0           32.0           35.0            1\n",
       "                 12.0            15.0             7.0            13.0           8.0             1\n",
       "                 14.0            37.0             5.0            40.0           27.0            1\n",
       "                                 54.0             4.0            39.0           58.0            1\n",
       "                 19.0            10.0             28.0           55.0           56.0            1\n",
       "                                 57.0             53.0           21.0           27.0            1\n",
       "                 20.0            19.0             29.0           59.0           10.0            1\n",
       "                                 36.0             3.0            11.0           6.0             1\n",
       "                 26.0            51.0             14.0           24.0           23.0            1\n",
       "                 27.0            13.0             60.0           14.0           18.0            1\n",
       "                 28.0            45.0             31.0           16.0           59.0            1\n",
       "                 32.0            19.0             58.0           5.0            49.0            1\n",
       "                 33.0            17.0             18.0           7.0            42.0            1\n",
       "                 35.0            36.0             16.0           52.0           54.0            1\n",
       "                                 37.0             10.0           19.0           9.0             1\n",
       "                 39.0            9.0              49.0           23.0           58.0            1\n",
       "                 42.0            52.0             53.0           16.0           9.0             1\n",
       "                 46.0            54.0             59.0           23.0           52.0            1\n",
       "1.0              2.0             10.0             48.0           14.0           8.0             1\n",
       "Length: 2045, dtype: int64"
      ]
     },
     "execution_count": 12,
     "metadata": {},
     "output_type": "execute_result"
    }
   ],
   "source": [
    "# Verificando se alguma vez as dezenas se repetiram na mesma ordem\n",
    "\n",
    "df.groupby(['primeira_dezena','segunda_dezena', 'terceira_dezena', 'quarta_dezena', 'quinta_dezena', 'sexta_dezena']).size().sort_values(ascending=False)\n",
    "\n",
    "# Até agora nunca tivemos um jogo repetido com as dezenas na mesma ordem"
   ]
  },
  {
   "cell_type": "code",
   "execution_count": 13,
   "metadata": {},
   "outputs": [
    {
     "data": {
      "text/plain": [
       "<matplotlib.axes._subplots.AxesSubplot at 0x7fcbfe875320>"
      ]
     },
     "execution_count": 13,
     "metadata": {},
     "output_type": "execute_result"
    },
    {
     "data": {
      "image/png": "[encoded data removed]",
      "text/plain": [
       "<Figure size 720x360 with 1 Axes>"
      ]
     },
     "metadata": {},
     "output_type": "display_data"
    }
   ],
   "source": [
    "# As seis dezenas mais sorteadas em todos os jogos\n",
    "\n",
    "dezenas = pd.DataFrame(df['primeira_dezena'].tolist() + df['segunda_dezena'].tolist() + df['terceira_dezena'].tolist() + df['quarta_dezena'].tolist() + df['quinta_dezena'].tolist() + df['sexta_dezena'].tolist(), columns=['numeros'])\n",
    "\n",
    "dezenas['numeros'].value_counts().sort_values(ascending=True).head(6).plot(kind='barh', title='As seis dezenas mais sorteadas em todos os jogos', figsize=(10,5), fontsize=12, legend=True, color='gray')"
   ]
  },
  {
   "cell_type": "markdown",
   "metadata": {},
   "source": [
    "# Preparando nosso dataset para o modelo"
   ]
  },
  {
   "cell_type": "code",
   "execution_count": 14,
   "metadata": {},
   "outputs": [
    {
     "data": {
      "text/html": [
       "<div>\n",
       "<style scoped>\n",
       "    .dataframe tbody tr th:only-of-type {\n",
       "        vertical-align: middle;\n",
       "    }\n",
       "\n",
       "    .dataframe tbody tr th {\n",
       "        vertical-align: top;\n",
       "    }\n",
       "\n",
       "    .dataframe thead th {\n",
       "        text-align: right;\n",
       "    }\n",
       "</style>\n",
       "<table border=\"1\" class=\"dataframe\">\n",
       "  <thead>\n",
       "    <tr style=\"text-align: right;\">\n",
       "      <th></th>\n",
       "      <th>primeira_dezena</th>\n",
       "      <th>segunda_dezena</th>\n",
       "      <th>terceira_dezena</th>\n",
       "      <th>quarta_dezena</th>\n",
       "      <th>quinta_dezena</th>\n",
       "      <th>sexta_dezena</th>\n",
       "      <th>ganhadores_sena</th>\n",
       "    </tr>\n",
       "  </thead>\n",
       "  <tbody>\n",
       "    <tr>\n",
       "      <th>0</th>\n",
       "      <td>41.0</td>\n",
       "      <td>5.0</td>\n",
       "      <td>4.0</td>\n",
       "      <td>52.0</td>\n",
       "      <td>30.0</td>\n",
       "      <td>33.0</td>\n",
       "      <td>0.0</td>\n",
       "    </tr>\n",
       "    <tr>\n",
       "      <th>1</th>\n",
       "      <td>9.0</td>\n",
       "      <td>39.0</td>\n",
       "      <td>37.0</td>\n",
       "      <td>49.0</td>\n",
       "      <td>43.0</td>\n",
       "      <td>41.0</td>\n",
       "      <td>1.0</td>\n",
       "    </tr>\n",
       "    <tr>\n",
       "      <th>2</th>\n",
       "      <td>36.0</td>\n",
       "      <td>30.0</td>\n",
       "      <td>10.0</td>\n",
       "      <td>11.0</td>\n",
       "      <td>29.0</td>\n",
       "      <td>47.0</td>\n",
       "      <td>2.0</td>\n",
       "    </tr>\n",
       "    <tr>\n",
       "      <th>4</th>\n",
       "      <td>6.0</td>\n",
       "      <td>59.0</td>\n",
       "      <td>42.0</td>\n",
       "      <td>27.0</td>\n",
       "      <td>1.0</td>\n",
       "      <td>5.0</td>\n",
       "      <td>0.0</td>\n",
       "    </tr>\n",
       "    <tr>\n",
       "      <th>5</th>\n",
       "      <td>1.0</td>\n",
       "      <td>19.0</td>\n",
       "      <td>46.0</td>\n",
       "      <td>6.0</td>\n",
       "      <td>16.0</td>\n",
       "      <td>2.0</td>\n",
       "      <td>0.0</td>\n",
       "    </tr>\n",
       "  </tbody>\n",
       "</table>\n",
       "</div>"
      ],
      "text/plain": [
       "   primeira_dezena  segunda_dezena  terceira_dezena  quarta_dezena  \\\n",
       "0             41.0             5.0              4.0           52.0   \n",
       "1              9.0            39.0             37.0           49.0   \n",
       "2             36.0            30.0             10.0           11.0   \n",
       "4              6.0            59.0             42.0           27.0   \n",
       "5              1.0            19.0             46.0            6.0   \n",
       "\n",
       "   quinta_dezena  sexta_dezena  ganhadores_sena  \n",
       "0           30.0          33.0              0.0  \n",
       "1           43.0          41.0              1.0  \n",
       "2           29.0          47.0              2.0  \n",
       "4            1.0           5.0              0.0  \n",
       "5           16.0           2.0              0.0  "
      ]
     },
     "execution_count": 14,
     "metadata": {},
     "output_type": "execute_result"
    }
   ],
   "source": [
    "# Criando dataframe que vamos usar nos modelos \n",
    "df_nn = df[['primeira_dezena','segunda_dezena','terceira_dezena','quarta_dezena','quinta_dezena','sexta_dezena', 'Ganhadores_Sena']] \n",
    "\n",
    "# Deixando os nomes das coluna em minusculo\n",
    "df_nn.columns = map(str.lower, df_nn.columns)\n",
    "\n",
    "df_nn.head(5)"
   ]
  },
  {
   "cell_type": "code",
   "execution_count": 15,
   "metadata": {},
   "outputs": [
    {
     "data": {
      "text/plain": [
       "<matplotlib.axes._subplots.AxesSubplot at 0x7fcbfe824b38>"
      ]
     },
     "execution_count": 15,
     "metadata": {},
     "output_type": "execute_result"
    },
    {
     "data": {
      "image/png": "[encoded data removed]",
      "text/plain": [
       "<Figure size 720x360 with 1 Axes>"
      ]
     },
     "metadata": {},
     "output_type": "display_data"
    }
   ],
   "source": [
    "# Pode existir mais de um ganhador por jogo\n",
    "df_nn[df_nn['ganhadores_sena'] > 1].groupby('ganhadores_sena')['ganhadores_sena'].agg('count').plot(kind='bar',figsize=(10,5), color='gray', fontsize=12)"
   ]
  },
  {
   "cell_type": "code",
   "execution_count": 16,
   "metadata": {},
   "outputs": [
    {
     "name": "stderr",
     "output_type": "stream",
     "text": [
      "/ambiente/python-dev/lib/python3.5/site-packages/pandas/core/indexing.py:194: SettingWithCopyWarning: \n",
      "A value is trying to be set on a copy of a slice from a DataFrame\n",
      "\n",
      "See the caveats in the documentation: http://pandas.pydata.org/pandas-docs/stable/indexing.html#indexing-view-versus-copy\n",
      "  self._setitem_with_indexer(indexer, value)\n",
      "/ambiente/python-dev/lib/python3.5/site-packages/ipykernel_launcher.py:2: SettingWithCopyWarning: \n",
      "A value is trying to be set on a copy of a slice from a DataFrame\n",
      "\n",
      "See the caveats in the documentation: http://pandas.pydata.org/pandas-docs/stable/indexing.html#indexing-view-versus-copy\n",
      "  \n"
     ]
    },
    {
     "data": {
      "text/plain": [
       "<matplotlib.axes._subplots.AxesSubplot at 0x7fcbfc4c1ef0>"
      ]
     },
     "execution_count": 16,
     "metadata": {},
     "output_type": "execute_result"
    },
    {
     "data": {
      "image/png": "[encoded data removed]",
      "text/plain": [
       "<Figure size 720x360 with 1 Axes>"
      ]
     },
     "metadata": {},
     "output_type": "display_data"
    }
   ],
   "source": [
    "# Então tudo jogo que tiver mais de um ganhador deixamos como o numeor 1\n",
    "df_nn.loc[df_nn['ganhadores_sena'] > 1, 'ganhadores_sena'] = 1\n",
    "\n",
    "df_nn['ganhadores_sena'].value_counts().plot(kind='bar', figsize=(10,5), color='gray', fontsize=12)"
   ]
  },
  {
   "cell_type": "markdown",
   "metadata": {},
   "source": [
    "# First Model - Neural Network"
   ]
  },
  {
   "cell_type": "code",
   "execution_count": 17,
   "metadata": {},
   "outputs": [
    {
     "name": "stderr",
     "output_type": "stream",
     "text": [
      "/ambiente/python-dev/lib/python3.5/site-packages/h5py/__init__.py:36: FutureWarning: Conversion of the second argument of issubdtype from `float` to `np.floating` is deprecated. In future, it will be treated as `np.float64 == np.dtype(float).type`.\n",
      "  from ._conv import register_converters as _register_converters\n",
      "Using TensorFlow backend.\n"
     ]
    }
   ],
   "source": [
    "from keras.models  import Sequential\n",
    "from keras.layers  import Dense\n",
    "from sklearn.model_selection import train_test_split"
   ]
  },
  {
   "cell_type": "code",
   "execution_count": 18,
   "metadata": {},
   "outputs": [],
   "source": [
    "# Definição do seed para a reproducidade do modelo\n",
    "np.random.seed(8)"
   ]
  },
  {
   "cell_type": "code",
   "execution_count": 19,
   "metadata": {},
   "outputs": [],
   "source": [
    "# Separando target e classes\n",
    "features = df_nn.iloc[:,0:6]\n",
    "target   = df_nn.iloc[:,6]"
   ]
  },
  {
   "cell_type": "code",
   "execution_count": 20,
   "metadata": {},
   "outputs": [],
   "source": [
    "# Dividindo dataset entre treino e teste\n",
    "X_train, X_test, y_train, y_test = train_test_split(target, features, test_size=0.33, random_state=8)"
   ]
  },
  {
   "cell_type": "code",
   "execution_count": 21,
   "metadata": {},
   "outputs": [],
   "source": [
    "# Criando modelo\n",
    "modelo = Sequential()\n",
    "modelo.add(Dense(10, input_dim=6, activation='relu'))\n",
    "modelo.add(Dense(12, activation='relu'))\n",
    "modelo.add(Dense(1, activation='sigmoid'))"
   ]
  },
  {
   "cell_type": "code",
   "execution_count": 22,
   "metadata": {},
   "outputs": [],
   "source": [
    "# Compilando o modelo\n",
    "modelo.compile(loss='binary_crossentropy', optimizer='adam', metrics=['accuracy'])"
   ]
  },
  {
   "cell_type": "code",
   "execution_count": 23,
   "metadata": {},
   "outputs": [
    {
     "name": "stdout",
     "output_type": "stream",
     "text": [
      "Epoch 1/300\n",
      "1370/1370 [==============================] - 0s 276us/step - loss: 1.2306 - acc: 0.6854\n",
      "Epoch 2/300\n",
      "1370/1370 [==============================] - 0s 146us/step - loss: 0.7481 - acc: 0.7000\n",
      "Epoch 3/300\n",
      "1370/1370 [==============================] - 0s 163us/step - loss: 0.6376 - acc: 0.7409\n",
      "Epoch 4/300\n",
      "1370/1370 [==============================] - 0s 149us/step - loss: 0.5990 - acc: 0.7584\n",
      "Epoch 5/300\n",
      "1370/1370 [==============================] - 0s 137us/step - loss: 0.5700 - acc: 0.7723\n",
      "Epoch 6/300\n",
      "1370/1370 [==============================] - 0s 131us/step - loss: 0.5605 - acc: 0.7664\n",
      "Epoch 7/300\n",
      "1370/1370 [==============================] - 0s 145us/step - loss: 0.5518 - acc: 0.7635\n",
      "Epoch 8/300\n",
      "1370/1370 [==============================] - 0s 142us/step - loss: 0.5443 - acc: 0.7664\n",
      "Epoch 9/300\n",
      "1370/1370 [==============================] - 0s 148us/step - loss: 0.5377 - acc: 0.7759\n",
      "Epoch 10/300\n",
      "1370/1370 [==============================] - 0s 144us/step - loss: 0.5505 - acc: 0.7650\n",
      "Epoch 11/300\n",
      "1370/1370 [==============================] - 0s 138us/step - loss: 0.5415 - acc: 0.7723\n",
      "Epoch 12/300\n",
      "1370/1370 [==============================] - 0s 132us/step - loss: 0.5444 - acc: 0.7701\n",
      "Epoch 13/300\n",
      "1370/1370 [==============================] - 0s 144us/step - loss: 0.5431 - acc: 0.7745\n",
      "Epoch 14/300\n",
      "1370/1370 [==============================] - 0s 157us/step - loss: 0.5392 - acc: 0.7752\n",
      "Epoch 15/300\n",
      "1370/1370 [==============================] - 0s 135us/step - loss: 0.5350 - acc: 0.7774\n",
      "Epoch 16/300\n",
      "1370/1370 [==============================] - 0s 131us/step - loss: 0.5350 - acc: 0.7723\n",
      "Epoch 17/300\n",
      "1370/1370 [==============================] - 0s 137us/step - loss: 0.5400 - acc: 0.7745\n",
      "Epoch 18/300\n",
      "1370/1370 [==============================] - 0s 132us/step - loss: 0.5368 - acc: 0.7701\n",
      "Epoch 19/300\n",
      "1370/1370 [==============================] - 0s 136us/step - loss: 0.5425 - acc: 0.7723\n",
      "Epoch 20/300\n",
      "1370/1370 [==============================] - 0s 148us/step - loss: 0.5397 - acc: 0.7752\n",
      "Epoch 21/300\n",
      "1370/1370 [==============================] - 0s 145us/step - loss: 0.5294 - acc: 0.7796\n",
      "Epoch 22/300\n",
      "1370/1370 [==============================] - 0s 140us/step - loss: 0.5352 - acc: 0.7766\n",
      "Epoch 23/300\n",
      "1370/1370 [==============================] - 0s 137us/step - loss: 0.5354 - acc: 0.7745\n",
      "Epoch 24/300\n",
      "1370/1370 [==============================] - 0s 143us/step - loss: 0.5316 - acc: 0.7730\n",
      "Epoch 25/300\n",
      "1370/1370 [==============================] - 0s 145us/step - loss: 0.5339 - acc: 0.7774\n",
      "Epoch 26/300\n",
      "1370/1370 [==============================] - 0s 150us/step - loss: 0.5283 - acc: 0.7759\n",
      "Epoch 27/300\n",
      "1370/1370 [==============================] - 0s 140us/step - loss: 0.5249 - acc: 0.7774\n",
      "Epoch 28/300\n",
      "1370/1370 [==============================] - 0s 133us/step - loss: 0.5299 - acc: 0.7737\n",
      "Epoch 29/300\n",
      "1370/1370 [==============================] - 0s 134us/step - loss: 0.5335 - acc: 0.7752\n",
      "Epoch 30/300\n",
      "1370/1370 [==============================] - 0s 143us/step - loss: 0.5373 - acc: 0.7745\n",
      "Epoch 31/300\n",
      "1370/1370 [==============================] - 0s 147us/step - loss: 0.5260 - acc: 0.7752\n",
      "Epoch 32/300\n",
      "1370/1370 [==============================] - 0s 140us/step - loss: 0.5301 - acc: 0.7788\n",
      "Epoch 33/300\n",
      "1370/1370 [==============================] - 0s 136us/step - loss: 0.5298 - acc: 0.7796\n",
      "Epoch 34/300\n",
      "1370/1370 [==============================] - 0s 134us/step - loss: 0.5244 - acc: 0.7774\n",
      "Epoch 35/300\n",
      "1370/1370 [==============================] - 0s 140us/step - loss: 0.5229 - acc: 0.7781\n",
      "Epoch 36/300\n",
      "1370/1370 [==============================] - 0s 161us/step - loss: 0.5247 - acc: 0.7781\n",
      "Epoch 37/300\n",
      "1370/1370 [==============================] - 0s 136us/step - loss: 0.5267 - acc: 0.7781\n",
      "Epoch 38/300\n",
      "1370/1370 [==============================] - 0s 138us/step - loss: 0.5271 - acc: 0.7766\n",
      "Epoch 39/300\n",
      "1370/1370 [==============================] - 0s 131us/step - loss: 0.5261 - acc: 0.7803\n",
      "Epoch 40/300\n",
      "1370/1370 [==============================] - 0s 152us/step - loss: 0.5237 - acc: 0.7774\n",
      "Epoch 41/300\n",
      "1370/1370 [==============================] - 0s 173us/step - loss: 0.5221 - acc: 0.7781\n",
      "Epoch 42/300\n",
      "1370/1370 [==============================] - 0s 135us/step - loss: 0.5248 - acc: 0.7774\n",
      "Epoch 43/300\n",
      "1370/1370 [==============================] - 0s 137us/step - loss: 0.5282 - acc: 0.7774\n",
      "Epoch 44/300\n",
      "1370/1370 [==============================] - 0s 140us/step - loss: 0.5241 - acc: 0.7796\n",
      "Epoch 45/300\n",
      "1370/1370 [==============================] - 0s 135us/step - loss: 0.5193 - acc: 0.7781\n",
      "Epoch 46/300\n",
      "1370/1370 [==============================] - 0s 148us/step - loss: 0.5251 - acc: 0.7796\n",
      "Epoch 47/300\n",
      "1370/1370 [==============================] - 0s 149us/step - loss: 0.5217 - acc: 0.7803\n",
      "Epoch 48/300\n",
      "1370/1370 [==============================] - 0s 143us/step - loss: 0.5242 - acc: 0.7788\n",
      "Epoch 49/300\n",
      "1370/1370 [==============================] - 0s 154us/step - loss: 0.5186 - acc: 0.7796\n",
      "Epoch 50/300\n",
      "1370/1370 [==============================] - 0s 149us/step - loss: 0.5226 - acc: 0.7796\n",
      "Epoch 51/300\n",
      "1370/1370 [==============================] - 0s 156us/step - loss: 0.5226 - acc: 0.7774\n",
      "Epoch 52/300\n",
      "1370/1370 [==============================] - 0s 134us/step - loss: 0.5256 - acc: 0.7839\n",
      "Epoch 53/300\n",
      "1370/1370 [==============================] - 0s 144us/step - loss: 0.5264 - acc: 0.7788\n",
      "Epoch 54/300\n",
      "1370/1370 [==============================] - 0s 150us/step - loss: 0.5169 - acc: 0.7825\n",
      "Epoch 55/300\n",
      "1370/1370 [==============================] - 0s 133us/step - loss: 0.5162 - acc: 0.7796\n",
      "Epoch 56/300\n",
      "1370/1370 [==============================] - 0s 142us/step - loss: 0.5213 - acc: 0.7788\n",
      "Epoch 57/300\n",
      "1370/1370 [==============================] - 0s 139us/step - loss: 0.5265 - acc: 0.7818\n",
      "Epoch 58/300\n",
      "1370/1370 [==============================] - 0s 137us/step - loss: 0.5194 - acc: 0.7810\n",
      "Epoch 59/300\n",
      "1370/1370 [==============================] - 0s 133us/step - loss: 0.5194 - acc: 0.7832\n",
      "Epoch 60/300\n",
      "1370/1370 [==============================] - 0s 138us/step - loss: 0.5169 - acc: 0.7781\n",
      "Epoch 61/300\n",
      "1370/1370 [==============================] - 0s 140us/step - loss: 0.5196 - acc: 0.7803\n",
      "Epoch 62/300\n",
      "1370/1370 [==============================] - 0s 149us/step - loss: 0.5193 - acc: 0.7810\n",
      "Epoch 63/300\n",
      "1370/1370 [==============================] - 0s 148us/step - loss: 0.5179 - acc: 0.7796\n",
      "Epoch 64/300\n",
      "1370/1370 [==============================] - 0s 140us/step - loss: 0.5204 - acc: 0.7781\n",
      "Epoch 65/300\n",
      "1370/1370 [==============================] - 0s 141us/step - loss: 0.5184 - acc: 0.7825\n",
      "Epoch 66/300\n",
      "1370/1370 [==============================] - 0s 155us/step - loss: 0.5189 - acc: 0.7832\n",
      "Epoch 67/300\n",
      "1370/1370 [==============================] - 0s 148us/step - loss: 0.5145 - acc: 0.7788\n",
      "Epoch 68/300\n",
      "1370/1370 [==============================] - 0s 146us/step - loss: 0.5192 - acc: 0.7825\n",
      "Epoch 69/300\n",
      "1370/1370 [==============================] - 0s 140us/step - loss: 0.5140 - acc: 0.7847\n",
      "Epoch 70/300\n",
      "1370/1370 [==============================] - 0s 138us/step - loss: 0.5108 - acc: 0.7825\n",
      "Epoch 71/300\n",
      "1370/1370 [==============================] - 0s 138us/step - loss: 0.5205 - acc: 0.7825\n",
      "Epoch 72/300\n",
      "1370/1370 [==============================] - 0s 156us/step - loss: 0.5190 - acc: 0.7832\n",
      "Epoch 73/300\n",
      "1370/1370 [==============================] - 0s 142us/step - loss: 0.5218 - acc: 0.7818\n",
      "Epoch 74/300\n",
      "1370/1370 [==============================] - 0s 146us/step - loss: 0.5176 - acc: 0.7803\n",
      "Epoch 75/300\n",
      "1370/1370 [==============================] - 0s 158us/step - loss: 0.5099 - acc: 0.7825\n",
      "Epoch 76/300\n",
      "1370/1370 [==============================] - 0s 137us/step - loss: 0.5128 - acc: 0.7825\n",
      "Epoch 77/300\n",
      "1370/1370 [==============================] - 0s 153us/step - loss: 0.5164 - acc: 0.7832\n",
      "Epoch 78/300\n",
      "1370/1370 [==============================] - 0s 153us/step - loss: 0.5150 - acc: 0.7825\n",
      "Epoch 79/300\n",
      "1370/1370 [==============================] - 0s 152us/step - loss: 0.5162 - acc: 0.7825\n",
      "Epoch 80/300\n",
      "1370/1370 [==============================] - 0s 153us/step - loss: 0.5170 - acc: 0.7832\n",
      "Epoch 81/300\n",
      "1370/1370 [==============================] - 0s 149us/step - loss: 0.5128 - acc: 0.7825\n",
      "Epoch 82/300\n"
     ]
    },
    {
     "name": "stdout",
     "output_type": "stream",
     "text": [
      "1370/1370 [==============================] - 0s 161us/step - loss: 0.5115 - acc: 0.7825\n",
      "Epoch 83/300\n",
      "1370/1370 [==============================] - 0s 133us/step - loss: 0.5150 - acc: 0.7839\n",
      "Epoch 84/300\n",
      "1370/1370 [==============================] - 0s 145us/step - loss: 0.5194 - acc: 0.7861\n",
      "Epoch 85/300\n",
      "1370/1370 [==============================] - 0s 140us/step - loss: 0.5115 - acc: 0.7832\n",
      "Epoch 86/300\n",
      "1370/1370 [==============================] - 0s 133us/step - loss: 0.5159 - acc: 0.7825\n",
      "Epoch 87/300\n",
      "1370/1370 [==============================] - 0s 146us/step - loss: 0.5098 - acc: 0.7796\n",
      "Epoch 88/300\n",
      "1370/1370 [==============================] - 0s 148us/step - loss: 0.5099 - acc: 0.7818\n",
      "Epoch 89/300\n",
      "1370/1370 [==============================] - 0s 138us/step - loss: 0.5081 - acc: 0.7847\n",
      "Epoch 90/300\n",
      "1370/1370 [==============================] - 0s 139us/step - loss: 0.5111 - acc: 0.7803\n",
      "Epoch 91/300\n",
      "1370/1370 [==============================] - 0s 136us/step - loss: 0.5121 - acc: 0.7839\n",
      "Epoch 92/300\n",
      "1370/1370 [==============================] - 0s 141us/step - loss: 0.5130 - acc: 0.7803\n",
      "Epoch 93/300\n",
      "1370/1370 [==============================] - 0s 151us/step - loss: 0.5098 - acc: 0.7832\n",
      "Epoch 94/300\n",
      "1370/1370 [==============================] - 0s 134us/step - loss: 0.5102 - acc: 0.7854\n",
      "Epoch 95/300\n",
      "1370/1370 [==============================] - 0s 143us/step - loss: 0.5195 - acc: 0.7788\n",
      "Epoch 96/300\n",
      "1370/1370 [==============================] - 0s 133us/step - loss: 0.5096 - acc: 0.7803\n",
      "Epoch 97/300\n",
      "1370/1370 [==============================] - 0s 134us/step - loss: 0.5090 - acc: 0.7818\n",
      "Epoch 98/300\n",
      "1370/1370 [==============================] - 0s 144us/step - loss: 0.5074 - acc: 0.7825\n",
      "Epoch 99/300\n",
      "1370/1370 [==============================] - 0s 139us/step - loss: 0.5098 - acc: 0.7825\n",
      "Epoch 100/300\n",
      "1370/1370 [==============================] - 0s 136us/step - loss: 0.5103 - acc: 0.7839\n",
      "Epoch 101/300\n",
      "1370/1370 [==============================] - 0s 136us/step - loss: 0.5105 - acc: 0.7825\n",
      "Epoch 102/300\n",
      "1370/1370 [==============================] - 0s 139us/step - loss: 0.5072 - acc: 0.7869\n",
      "Epoch 103/300\n",
      "1370/1370 [==============================] - 0s 147us/step - loss: 0.5089 - acc: 0.7847\n",
      "Epoch 104/300\n",
      "1370/1370 [==============================] - 0s 141us/step - loss: 0.5088 - acc: 0.7810\n",
      "Epoch 105/300\n",
      "1370/1370 [==============================] - 0s 133us/step - loss: 0.5212 - acc: 0.7818\n",
      "Epoch 106/300\n",
      "1370/1370 [==============================] - 0s 134us/step - loss: 0.5132 - acc: 0.7847\n",
      "Epoch 107/300\n",
      "1370/1370 [==============================] - 0s 136us/step - loss: 0.5126 - acc: 0.7818\n",
      "Epoch 108/300\n",
      "1370/1370 [==============================] - 0s 136us/step - loss: 0.5132 - acc: 0.7839\n",
      "Epoch 109/300\n",
      "1370/1370 [==============================] - 0s 147us/step - loss: 0.5112 - acc: 0.7847\n",
      "Epoch 110/300\n",
      "1370/1370 [==============================] - 0s 143us/step - loss: 0.5075 - acc: 0.7861\n",
      "Epoch 111/300\n",
      "1370/1370 [==============================] - 0s 147us/step - loss: 0.5102 - acc: 0.7796\n",
      "Epoch 112/300\n",
      "1370/1370 [==============================] - 0s 141us/step - loss: 0.5106 - acc: 0.7847\n",
      "Epoch 113/300\n",
      "1370/1370 [==============================] - 0s 136us/step - loss: 0.5091 - acc: 0.7796\n",
      "Epoch 114/300\n",
      "1370/1370 [==============================] - 0s 144us/step - loss: 0.5227 - acc: 0.7832\n",
      "Epoch 115/300\n",
      "1370/1370 [==============================] - 0s 144us/step - loss: 0.5108 - acc: 0.7869\n",
      "Epoch 116/300\n",
      "1370/1370 [==============================] - 0s 137us/step - loss: 0.5142 - acc: 0.7832\n",
      "Epoch 117/300\n",
      "1370/1370 [==============================] - 0s 136us/step - loss: 0.5131 - acc: 0.7839\n",
      "Epoch 118/300\n",
      "1370/1370 [==============================] - 0s 141us/step - loss: 0.5070 - acc: 0.7861\n",
      "Epoch 119/300\n",
      "1370/1370 [==============================] - 0s 159us/step - loss: 0.5057 - acc: 0.7847\n",
      "Epoch 120/300\n",
      "1370/1370 [==============================] - 0s 141us/step - loss: 0.5150 - acc: 0.7796\n",
      "Epoch 121/300\n",
      "1370/1370 [==============================] - 0s 132us/step - loss: 0.5052 - acc: 0.7818\n",
      "Epoch 122/300\n",
      "1370/1370 [==============================] - 0s 138us/step - loss: 0.5190 - acc: 0.7781\n",
      "Epoch 123/300\n",
      "1370/1370 [==============================] - 0s 138us/step - loss: 0.5051 - acc: 0.7832\n",
      "Epoch 124/300\n",
      "1370/1370 [==============================] - 0s 163us/step - loss: 0.5103 - acc: 0.7832\n",
      "Epoch 125/300\n",
      "1370/1370 [==============================] - 0s 135us/step - loss: 0.5049 - acc: 0.7861\n",
      "Epoch 126/300\n",
      "1370/1370 [==============================] - 0s 141us/step - loss: 0.5063 - acc: 0.7861\n",
      "Epoch 127/300\n",
      "1370/1370 [==============================] - 0s 133us/step - loss: 0.5058 - acc: 0.7869\n",
      "Epoch 128/300\n",
      "1370/1370 [==============================] - 0s 130us/step - loss: 0.5120 - acc: 0.7796\n",
      "Epoch 129/300\n",
      "1370/1370 [==============================] - 0s 136us/step - loss: 0.5131 - acc: 0.7803\n",
      "Epoch 130/300\n",
      "1370/1370 [==============================] - 0s 148us/step - loss: 0.5044 - acc: 0.7861\n",
      "Epoch 131/300\n",
      "1370/1370 [==============================] - 0s 150us/step - loss: 0.5040 - acc: 0.7832\n",
      "Epoch 132/300\n",
      "1370/1370 [==============================] - 0s 145us/step - loss: 0.5029 - acc: 0.7869\n",
      "Epoch 133/300\n",
      "1370/1370 [==============================] - 0s 141us/step - loss: 0.5134 - acc: 0.7847\n",
      "Epoch 134/300\n",
      "1370/1370 [==============================] - 0s 140us/step - loss: 0.5154 - acc: 0.7825\n",
      "Epoch 135/300\n",
      "1370/1370 [==============================] - 0s 146us/step - loss: 0.5110 - acc: 0.7839\n",
      "Epoch 136/300\n",
      "1370/1370 [==============================] - 0s 147us/step - loss: 0.5098 - acc: 0.7861\n",
      "Epoch 137/300\n",
      "1370/1370 [==============================] - 0s 144us/step - loss: 0.5038 - acc: 0.7861\n",
      "Epoch 138/300\n",
      "1370/1370 [==============================] - 0s 141us/step - loss: 0.5053 - acc: 0.7818\n",
      "Epoch 139/300\n",
      "1370/1370 [==============================] - 0s 146us/step - loss: 0.5063 - acc: 0.7825\n",
      "Epoch 140/300\n",
      "1370/1370 [==============================] - 0s 156us/step - loss: 0.5123 - acc: 0.7788\n",
      "Epoch 141/300\n",
      "1370/1370 [==============================] - 0s 150us/step - loss: 0.5040 - acc: 0.7810\n",
      "Epoch 142/300\n",
      "1370/1370 [==============================] - 0s 141us/step - loss: 0.5074 - acc: 0.7854\n",
      "Epoch 143/300\n",
      "1370/1370 [==============================] - 0s 140us/step - loss: 0.5061 - acc: 0.7847\n",
      "Epoch 144/300\n",
      "1370/1370 [==============================] - 0s 136us/step - loss: 0.5084 - acc: 0.7876\n",
      "Epoch 145/300\n",
      "1370/1370 [==============================] - 0s 145us/step - loss: 0.5069 - acc: 0.7839\n",
      "Epoch 146/300\n",
      "1370/1370 [==============================] - 0s 142us/step - loss: 0.5124 - acc: 0.7818\n",
      "Epoch 147/300\n",
      "1370/1370 [==============================] - 0s 131us/step - loss: 0.5079 - acc: 0.7876\n",
      "Epoch 148/300\n",
      "1370/1370 [==============================] - 0s 136us/step - loss: 0.5025 - acc: 0.7818\n",
      "Epoch 149/300\n",
      "1370/1370 [==============================] - 0s 134us/step - loss: 0.5036 - acc: 0.7854\n",
      "Epoch 150/300\n",
      "1370/1370 [==============================] - 0s 140us/step - loss: 0.5082 - acc: 0.7876\n",
      "Epoch 151/300\n",
      "1370/1370 [==============================] - 0s 152us/step - loss: 0.5084 - acc: 0.7839\n",
      "Epoch 152/300\n",
      "1370/1370 [==============================] - 0s 147us/step - loss: 0.5119 - acc: 0.7818\n",
      "Epoch 153/300\n",
      "1370/1370 [==============================] - 0s 140us/step - loss: 0.5054 - acc: 0.7869\n",
      "Epoch 154/300\n",
      "1370/1370 [==============================] - 0s 135us/step - loss: 0.5105 - acc: 0.7847\n",
      "Epoch 155/300\n",
      "1370/1370 [==============================] - 0s 139us/step - loss: 0.5080 - acc: 0.7847\n",
      "Epoch 156/300\n",
      "1370/1370 [==============================] - 0s 146us/step - loss: 0.5057 - acc: 0.7818\n",
      "Epoch 157/300\n",
      "1370/1370 [==============================] - 0s 151us/step - loss: 0.5054 - acc: 0.7796\n",
      "Epoch 158/300\n",
      "1370/1370 [==============================] - 0s 139us/step - loss: 0.5007 - acc: 0.7861\n",
      "Epoch 159/300\n",
      "1370/1370 [==============================] - 0s 149us/step - loss: 0.5060 - acc: 0.7839\n",
      "Epoch 160/300\n",
      "1370/1370 [==============================] - 0s 147us/step - loss: 0.5052 - acc: 0.7847\n",
      "Epoch 161/300\n",
      "1370/1370 [==============================] - 0s 164us/step - loss: 0.5065 - acc: 0.7839\n",
      "Epoch 162/300\n"
     ]
    },
    {
     "name": "stdout",
     "output_type": "stream",
     "text": [
      "1370/1370 [==============================] - 0s 141us/step - loss: 0.5011 - acc: 0.7876\n",
      "Epoch 163/300\n",
      "1370/1370 [==============================] - 0s 133us/step - loss: 0.5049 - acc: 0.7854\n",
      "Epoch 164/300\n",
      "1370/1370 [==============================] - 0s 137us/step - loss: 0.5114 - acc: 0.7861\n",
      "Epoch 165/300\n",
      "1370/1370 [==============================] - 0s 137us/step - loss: 0.5068 - acc: 0.7861\n",
      "Epoch 166/300\n",
      "1370/1370 [==============================] - 0s 159us/step - loss: 0.5067 - acc: 0.7876\n",
      "Epoch 167/300\n",
      "1370/1370 [==============================] - 0s 131us/step - loss: 0.5034 - acc: 0.7891\n",
      "Epoch 168/300\n",
      "1370/1370 [==============================] - 0s 129us/step - loss: 0.5032 - acc: 0.7854\n",
      "Epoch 169/300\n",
      "1370/1370 [==============================] - 0s 137us/step - loss: 0.5064 - acc: 0.7847\n",
      "Epoch 170/300\n",
      "1370/1370 [==============================] - 0s 131us/step - loss: 0.5027 - acc: 0.7876\n",
      "Epoch 171/300\n",
      "1370/1370 [==============================] - 0s 134us/step - loss: 0.5027 - acc: 0.7883\n",
      "Epoch 172/300\n",
      "1370/1370 [==============================] - 0s 146us/step - loss: 0.5037 - acc: 0.7854\n",
      "Epoch 173/300\n",
      "1370/1370 [==============================] - 0s 139us/step - loss: 0.5032 - acc: 0.7869\n",
      "Epoch 174/300\n",
      "1370/1370 [==============================] - 0s 137us/step - loss: 0.5045 - acc: 0.7847\n",
      "Epoch 175/300\n",
      "1370/1370 [==============================] - 0s 131us/step - loss: 0.5063 - acc: 0.7876\n",
      "Epoch 176/300\n",
      "1370/1370 [==============================] - 0s 137us/step - loss: 0.5026 - acc: 0.7876\n",
      "Epoch 177/300\n",
      "1370/1370 [==============================] - 0s 141us/step - loss: 0.5067 - acc: 0.7854\n",
      "Epoch 178/300\n",
      "1370/1370 [==============================] - 0s 139us/step - loss: 0.5068 - acc: 0.7876\n",
      "Epoch 179/300\n",
      "1370/1370 [==============================] - 0s 136us/step - loss: 0.5097 - acc: 0.7869\n",
      "Epoch 180/300\n",
      "1370/1370 [==============================] - 0s 139us/step - loss: 0.5014 - acc: 0.7847\n",
      "Epoch 181/300\n",
      "1370/1370 [==============================] - 0s 137us/step - loss: 0.5022 - acc: 0.7861\n",
      "Epoch 182/300\n",
      "1370/1370 [==============================] - 0s 131us/step - loss: 0.5031 - acc: 0.7861\n",
      "Epoch 183/300\n",
      "1370/1370 [==============================] - 0s 142us/step - loss: 0.5097 - acc: 0.7832\n",
      "Epoch 184/300\n",
      "1370/1370 [==============================] - 0s 140us/step - loss: 0.5067 - acc: 0.7854\n",
      "Epoch 185/300\n",
      "1370/1370 [==============================] - 0s 143us/step - loss: 0.5048 - acc: 0.7825\n",
      "Epoch 186/300\n",
      "1370/1370 [==============================] - 0s 135us/step - loss: 0.5103 - acc: 0.7854\n",
      "Epoch 187/300\n",
      "1370/1370 [==============================] - 0s 135us/step - loss: 0.5055 - acc: 0.7832\n",
      "Epoch 188/300\n",
      "1370/1370 [==============================] - 0s 147us/step - loss: 0.5012 - acc: 0.7876\n",
      "Epoch 189/300\n",
      "1370/1370 [==============================] - 0s 144us/step - loss: 0.5046 - acc: 0.7869\n",
      "Epoch 190/300\n",
      "1370/1370 [==============================] - 0s 136us/step - loss: 0.5028 - acc: 0.7891\n",
      "Epoch 191/300\n",
      "1370/1370 [==============================] - 0s 139us/step - loss: 0.5027 - acc: 0.7869\n",
      "Epoch 192/300\n",
      "1370/1370 [==============================] - 0s 130us/step - loss: 0.5077 - acc: 0.7891\n",
      "Epoch 193/300\n",
      "1370/1370 [==============================] - 0s 145us/step - loss: 0.5069 - acc: 0.7905\n",
      "Epoch 194/300\n",
      "1370/1370 [==============================] - 0s 143us/step - loss: 0.5019 - acc: 0.7818\n",
      "Epoch 195/300\n",
      "1370/1370 [==============================] - 0s 142us/step - loss: 0.5010 - acc: 0.7883\n",
      "Epoch 196/300\n",
      "1370/1370 [==============================] - 0s 152us/step - loss: 0.5025 - acc: 0.7883\n",
      "Epoch 197/300\n",
      "1370/1370 [==============================] - 0s 140us/step - loss: 0.5018 - acc: 0.7876\n",
      "Epoch 198/300\n",
      "1370/1370 [==============================] - 0s 136us/step - loss: 0.5024 - acc: 0.7891\n",
      "Epoch 199/300\n",
      "1370/1370 [==============================] - 0s 145us/step - loss: 0.5000 - acc: 0.7861\n",
      "Epoch 200/300\n",
      "1370/1370 [==============================] - 0s 142us/step - loss: 0.5012 - acc: 0.7891\n",
      "Epoch 201/300\n",
      "1370/1370 [==============================] - 0s 137us/step - loss: 0.5005 - acc: 0.7891\n",
      "Epoch 202/300\n",
      "1370/1370 [==============================] - 0s 127us/step - loss: 0.5019 - acc: 0.7861\n",
      "Epoch 203/300\n",
      "1370/1370 [==============================] - 0s 136us/step - loss: 0.5026 - acc: 0.7847\n",
      "Epoch 204/300\n",
      "1370/1370 [==============================] - 0s 150us/step - loss: 0.5068 - acc: 0.7861\n",
      "Epoch 205/300\n",
      "1370/1370 [==============================] - 0s 146us/step - loss: 0.5011 - acc: 0.7898\n",
      "Epoch 206/300\n",
      "1370/1370 [==============================] - 0s 147us/step - loss: 0.4974 - acc: 0.7905\n",
      "Epoch 207/300\n",
      "1370/1370 [==============================] - 0s 147us/step - loss: 0.5022 - acc: 0.7869\n",
      "Epoch 208/300\n",
      "1370/1370 [==============================] - 0s 144us/step - loss: 0.5002 - acc: 0.7891\n",
      "Epoch 209/300\n",
      "1370/1370 [==============================] - 0s 157us/step - loss: 0.4978 - acc: 0.7891\n",
      "Epoch 210/300\n",
      "1370/1370 [==============================] - 0s 141us/step - loss: 0.5049 - acc: 0.7898\n",
      "Epoch 211/300\n",
      "1370/1370 [==============================] - 0s 148us/step - loss: 0.4999 - acc: 0.7861\n",
      "Epoch 212/300\n",
      "1370/1370 [==============================] - 0s 140us/step - loss: 0.5008 - acc: 0.7927\n",
      "Epoch 213/300\n",
      "1370/1370 [==============================] - 0s 134us/step - loss: 0.5037 - acc: 0.7832\n",
      "Epoch 214/300\n",
      "1370/1370 [==============================] - 0s 143us/step - loss: 0.5003 - acc: 0.7898\n",
      "Epoch 215/300\n",
      "1370/1370 [==============================] - 0s 142us/step - loss: 0.4986 - acc: 0.7912\n",
      "Epoch 216/300\n",
      "1370/1370 [==============================] - 0s 145us/step - loss: 0.5037 - acc: 0.7876\n",
      "Epoch 217/300\n",
      "1370/1370 [==============================] - 0s 144us/step - loss: 0.4994 - acc: 0.7905\n",
      "Epoch 218/300\n",
      "1370/1370 [==============================] - 0s 144us/step - loss: 0.5015 - acc: 0.7854\n",
      "Epoch 219/300\n",
      "1370/1370 [==============================] - 0s 158us/step - loss: 0.5009 - acc: 0.7861\n",
      "Epoch 220/300\n",
      "1370/1370 [==============================] - 0s 143us/step - loss: 0.4989 - acc: 0.7898\n",
      "Epoch 221/300\n",
      "1370/1370 [==============================] - 0s 134us/step - loss: 0.5038 - acc: 0.7905\n",
      "Epoch 222/300\n",
      "1370/1370 [==============================] - 0s 140us/step - loss: 0.4994 - acc: 0.7905\n",
      "Epoch 223/300\n",
      "1370/1370 [==============================] - 0s 143us/step - loss: 0.5008 - acc: 0.7891\n",
      "Epoch 224/300\n",
      "1370/1370 [==============================] - 0s 160us/step - loss: 0.4979 - acc: 0.7839\n",
      "Epoch 225/300\n",
      "1370/1370 [==============================] - 0s 178us/step - loss: 0.4961 - acc: 0.7876\n",
      "Epoch 226/300\n",
      "1370/1370 [==============================] - 0s 148us/step - loss: 0.4982 - acc: 0.7869\n",
      "Epoch 227/300\n",
      "1370/1370 [==============================] - 0s 160us/step - loss: 0.4990 - acc: 0.7920\n",
      "Epoch 228/300\n",
      "1370/1370 [==============================] - 0s 143us/step - loss: 0.4976 - acc: 0.7927\n",
      "Epoch 229/300\n",
      "1370/1370 [==============================] - 0s 158us/step - loss: 0.4992 - acc: 0.7891\n",
      "Epoch 230/300\n",
      "1370/1370 [==============================] - 0s 148us/step - loss: 0.4971 - acc: 0.7905\n",
      "Epoch 231/300\n",
      "1370/1370 [==============================] - 0s 149us/step - loss: 0.5024 - acc: 0.7876\n",
      "Epoch 232/300\n",
      "1370/1370 [==============================] - 0s 143us/step - loss: 0.5002 - acc: 0.7876\n",
      "Epoch 233/300\n",
      "1370/1370 [==============================] - 0s 148us/step - loss: 0.4989 - acc: 0.7854\n",
      "Epoch 234/300\n",
      "1370/1370 [==============================] - 0s 155us/step - loss: 0.4959 - acc: 0.7927\n",
      "Epoch 235/300\n",
      "1370/1370 [==============================] - 0s 149us/step - loss: 0.4983 - acc: 0.7883\n",
      "Epoch 236/300\n",
      "1370/1370 [==============================] - 0s 145us/step - loss: 0.4995 - acc: 0.7883\n",
      "Epoch 237/300\n",
      "1370/1370 [==============================] - 0s 135us/step - loss: 0.5001 - acc: 0.7891\n",
      "Epoch 238/300\n",
      "1370/1370 [==============================] - 0s 140us/step - loss: 0.4947 - acc: 0.7934\n",
      "Epoch 239/300\n",
      "1370/1370 [==============================] - 0s 134us/step - loss: 0.4980 - acc: 0.7876\n",
      "Epoch 240/300\n",
      "1370/1370 [==============================] - 0s 149us/step - loss: 0.4945 - acc: 0.7876\n",
      "Epoch 241/300\n",
      "1370/1370 [==============================] - 0s 153us/step - loss: 0.5007 - acc: 0.7898\n",
      "Epoch 242/300\n"
     ]
    },
    {
     "name": "stdout",
     "output_type": "stream",
     "text": [
      "1370/1370 [==============================] - 0s 144us/step - loss: 0.4957 - acc: 0.7898\n",
      "Epoch 243/300\n",
      "1370/1370 [==============================] - 0s 142us/step - loss: 0.4966 - acc: 0.7905\n",
      "Epoch 244/300\n",
      "1370/1370 [==============================] - 0s 140us/step - loss: 0.4965 - acc: 0.7891\n",
      "Epoch 245/300\n",
      "1370/1370 [==============================] - 0s 136us/step - loss: 0.4982 - acc: 0.7891\n",
      "Epoch 246/300\n",
      "1370/1370 [==============================] - 0s 133us/step - loss: 0.4961 - acc: 0.7898\n",
      "Epoch 247/300\n",
      "1370/1370 [==============================] - 0s 144us/step - loss: 0.4970 - acc: 0.7898\n",
      "Epoch 248/300\n",
      "1370/1370 [==============================] - 0s 141us/step - loss: 0.4938 - acc: 0.7891\n",
      "Epoch 249/300\n",
      "1370/1370 [==============================] - 0s 141us/step - loss: 0.4977 - acc: 0.7949\n",
      "Epoch 250/300\n",
      "1370/1370 [==============================] - 0s 145us/step - loss: 0.4958 - acc: 0.7905\n",
      "Epoch 251/300\n",
      "1370/1370 [==============================] - 0s 148us/step - loss: 0.4967 - acc: 0.7912\n",
      "Epoch 252/300\n",
      "1370/1370 [==============================] - 0s 141us/step - loss: 0.4971 - acc: 0.7905\n",
      "Epoch 253/300\n",
      "1370/1370 [==============================] - 0s 139us/step - loss: 0.4951 - acc: 0.7942\n",
      "Epoch 254/300\n",
      "1370/1370 [==============================] - 0s 133us/step - loss: 0.4962 - acc: 0.7891\n",
      "Epoch 255/300\n",
      "1370/1370 [==============================] - 0s 167us/step - loss: 0.4974 - acc: 0.7912\n",
      "Epoch 256/300\n",
      "1370/1370 [==============================] - 0s 147us/step - loss: 0.4943 - acc: 0.7891\n",
      "Epoch 257/300\n",
      "1370/1370 [==============================] - 0s 146us/step - loss: 0.4944 - acc: 0.7905\n",
      "Epoch 258/300\n",
      "1370/1370 [==============================] - 0s 142us/step - loss: 0.4983 - acc: 0.7869\n",
      "Epoch 259/300\n",
      "1370/1370 [==============================] - 0s 136us/step - loss: 0.4964 - acc: 0.7898\n",
      "Epoch 260/300\n",
      "1370/1370 [==============================] - 0s 165us/step - loss: 0.4936 - acc: 0.7898\n",
      "Epoch 261/300\n",
      "1370/1370 [==============================] - 0s 136us/step - loss: 0.4948 - acc: 0.7912\n",
      "Epoch 262/300\n",
      "1370/1370 [==============================] - 0s 143us/step - loss: 0.4993 - acc: 0.7920\n",
      "Epoch 263/300\n",
      "1370/1370 [==============================] - 0s 152us/step - loss: 0.4972 - acc: 0.7942\n",
      "Epoch 264/300\n",
      "1370/1370 [==============================] - 0s 163us/step - loss: 0.4931 - acc: 0.7920\n",
      "Epoch 265/300\n",
      "1370/1370 [==============================] - 0s 160us/step - loss: 0.4930 - acc: 0.7942\n",
      "Epoch 266/300\n",
      "1370/1370 [==============================] - 0s 158us/step - loss: 0.4944 - acc: 0.7927\n",
      "Epoch 267/300\n",
      "1370/1370 [==============================] - 0s 163us/step - loss: 0.4960 - acc: 0.7920\n",
      "Epoch 268/300\n",
      "1370/1370 [==============================] - 0s 154us/step - loss: 0.4961 - acc: 0.7912\n",
      "Epoch 269/300\n",
      "1370/1370 [==============================] - 0s 164us/step - loss: 0.4967 - acc: 0.7883\n",
      "Epoch 270/300\n",
      "1370/1370 [==============================] - 0s 185us/step - loss: 0.4949 - acc: 0.7927\n",
      "Epoch 271/300\n",
      "1370/1370 [==============================] - 0s 157us/step - loss: 0.4933 - acc: 0.7912\n",
      "Epoch 272/300\n",
      "1370/1370 [==============================] - 0s 163us/step - loss: 0.4951 - acc: 0.7927\n",
      "Epoch 273/300\n",
      "1370/1370 [==============================] - 0s 157us/step - loss: 0.5017 - acc: 0.7861\n",
      "Epoch 274/300\n",
      "1370/1370 [==============================] - 0s 140us/step - loss: 0.4943 - acc: 0.7898\n",
      "Epoch 275/300\n",
      "1370/1370 [==============================] - 0s 149us/step - loss: 0.4974 - acc: 0.7883\n",
      "Epoch 276/300\n",
      "1370/1370 [==============================] - 0s 148us/step - loss: 0.4921 - acc: 0.7942\n",
      "Epoch 277/300\n",
      "1370/1370 [==============================] - 0s 155us/step - loss: 0.4888 - acc: 0.7927\n",
      "Epoch 278/300\n",
      "1370/1370 [==============================] - 0s 168us/step - loss: 0.4918 - acc: 0.7905\n",
      "Epoch 279/300\n",
      "1370/1370 [==============================] - 0s 155us/step - loss: 0.5038 - acc: 0.7920\n",
      "Epoch 280/300\n",
      "1370/1370 [==============================] - 0s 157us/step - loss: 0.4911 - acc: 0.7934\n",
      "Epoch 281/300\n",
      "1370/1370 [==============================] - 0s 138us/step - loss: 0.4921 - acc: 0.7934\n",
      "Epoch 282/300\n",
      "1370/1370 [==============================] - 0s 140us/step - loss: 0.4929 - acc: 0.7920\n",
      "Epoch 283/300\n",
      "1370/1370 [==============================] - 0s 132us/step - loss: 0.4966 - acc: 0.7891\n",
      "Epoch 284/300\n",
      "1370/1370 [==============================] - 0s 137us/step - loss: 0.4923 - acc: 0.7905\n",
      "Epoch 285/300\n",
      "1370/1370 [==============================] - 0s 145us/step - loss: 0.4924 - acc: 0.7920\n",
      "Epoch 286/300\n",
      "1370/1370 [==============================] - 0s 135us/step - loss: 0.4958 - acc: 0.7912\n",
      "Epoch 287/300\n",
      "1370/1370 [==============================] - 0s 136us/step - loss: 0.4926 - acc: 0.7942\n",
      "Epoch 288/300\n",
      "1370/1370 [==============================] - 0s 139us/step - loss: 0.4913 - acc: 0.7920\n",
      "Epoch 289/300\n",
      "1370/1370 [==============================] - 0s 136us/step - loss: 0.4919 - acc: 0.7949\n",
      "Epoch 290/300\n",
      "1370/1370 [==============================] - 0s 152us/step - loss: 0.4878 - acc: 0.7964\n",
      "Epoch 291/300\n",
      "1370/1370 [==============================] - 0s 143us/step - loss: 0.4928 - acc: 0.7942\n",
      "Epoch 292/300\n",
      "1370/1370 [==============================] - 0s 138us/step - loss: 0.4912 - acc: 0.7920\n",
      "Epoch 293/300\n",
      "1370/1370 [==============================] - 0s 143us/step - loss: 0.4909 - acc: 0.7905\n",
      "Epoch 294/300\n",
      "1370/1370 [==============================] - 0s 145us/step - loss: 0.4967 - acc: 0.7883\n",
      "Epoch 295/300\n",
      "1370/1370 [==============================] - 0s 157us/step - loss: 0.4957 - acc: 0.7927\n",
      "Epoch 296/300\n",
      "1370/1370 [==============================] - 0s 139us/step - loss: 0.4957 - acc: 0.7905\n",
      "Epoch 297/300\n",
      "1370/1370 [==============================] - 0s 148us/step - loss: 0.4933 - acc: 0.7927\n",
      "Epoch 298/300\n",
      "1370/1370 [==============================] - 0s 140us/step - loss: 0.4918 - acc: 0.7927\n",
      "Epoch 299/300\n",
      "1370/1370 [==============================] - 0s 140us/step - loss: 0.4934 - acc: 0.7934\n",
      "Epoch 300/300\n",
      "1370/1370 [==============================] - 0s 140us/step - loss: 0.4935 - acc: 0.7927\n"
     ]
    },
    {
     "data": {
      "text/plain": [
       "<keras.callbacks.History at 0x7fcbeaf5a748>"
      ]
     },
     "execution_count": 23,
     "metadata": {},
     "output_type": "execute_result"
    }
   ],
   "source": [
    "# Treinando modelo\n",
    "modelo.fit(y_train, X_train, epochs=300, batch_size=10)"
   ]
  },
  {
   "cell_type": "markdown",
   "metadata": {},
   "source": [
    "# Validando Modelo"
   ]
  },
  {
   "cell_type": "code",
   "execution_count": 24,
   "metadata": {},
   "outputs": [
    {
     "name": "stdout",
     "output_type": "stream",
     "text": [
      "675/675 [==============================] - 0s 66us/step\n",
      "\n",
      "\n",
      "Acurracia do modelo\n",
      "\n",
      "acc: 74.222222%\n"
     ]
    }
   ],
   "source": [
    "# Avaliando modelo\n",
    "scores = modelo.evaluate(y_test, X_test)\n",
    "print(\"\\n\")\n",
    "print(\"Acurracia do modelo\")\n",
    "print(\"\\n%s: %2f%%\" % (modelo.metrics_names[1], scores[1]*100))"
   ]
  },
  {
   "cell_type": "markdown",
   "metadata": {},
   "source": [
    "# Predict "
   ]
  },
  {
   "cell_type": "code",
   "execution_count": 25,
   "metadata": {},
   "outputs": [
    {
     "data": {
      "text/html": [
       "<div>\n",
       "<style scoped>\n",
       "    .dataframe tbody tr th:only-of-type {\n",
       "        vertical-align: middle;\n",
       "    }\n",
       "\n",
       "    .dataframe tbody tr th {\n",
       "        vertical-align: top;\n",
       "    }\n",
       "\n",
       "    .dataframe thead th {\n",
       "        text-align: right;\n",
       "    }\n",
       "</style>\n",
       "<table border=\"1\" class=\"dataframe\">\n",
       "  <thead>\n",
       "    <tr style=\"text-align: right;\">\n",
       "      <th></th>\n",
       "      <th>0</th>\n",
       "      <th>1</th>\n",
       "      <th>2</th>\n",
       "      <th>3</th>\n",
       "      <th>4</th>\n",
       "      <th>5</th>\n",
       "    </tr>\n",
       "  </thead>\n",
       "  <tbody>\n",
       "    <tr>\n",
       "      <th>0</th>\n",
       "      <td>7</td>\n",
       "      <td>14</td>\n",
       "      <td>47</td>\n",
       "      <td>54</td>\n",
       "      <td>56</td>\n",
       "      <td>60</td>\n",
       "    </tr>\n",
       "  </tbody>\n",
       "</table>\n",
       "</div>"
      ],
      "text/plain": [
       "   0   1   2   3   4   5\n",
       "0  7  14  47  54  56  60"
      ]
     },
     "execution_count": 25,
     "metadata": {},
     "output_type": "execute_result"
    }
   ],
   "source": [
    "#numero_sorteio = [[3,6,11,27,28,46]]\n",
    "\n",
    "numero_sorteio = [[7, 14, 47, 54,56, 60]]\n",
    "\n",
    "y_predict = pd.DataFrame(numero_sorteio)\n",
    "y_predict"
   ]
  },
  {
   "cell_type": "code",
   "execution_count": 26,
   "metadata": {},
   "outputs": [
    {
     "name": "stdout",
     "output_type": "stream",
     "text": [
      "1 = Tem chance de ganhar / 0 = Não tem chance de ganhar\n",
      "\n",
      "\n",
      "Previsão Modelo:  0\n"
     ]
    }
   ],
   "source": [
    "# Fazendo a predição - Classes\n",
    "predict_class = modelo.predict_classes(y_predict)\n",
    "print(\"1 = Tem chance de ganhar / 0 = Não tem chance de ganhar\")\n",
    "print(\"\\n\")\n",
    "print(\"Previsão Modelo: \",predict_class[0][0])"
   ]
  },
  {
   "cell_type": "code",
   "execution_count": 27,
   "metadata": {},
   "outputs": [
    {
     "name": "stdout",
     "output_type": "stream",
     "text": [
      "Qual a probabilidade do número sair?\n",
      "\n",
      "\n",
      "Probabilidade:  25.04 %\n"
     ]
    }
   ],
   "source": [
    "# Achando a probabilidade - Proba\n",
    "predict_proba = modelo.predict_proba(y_predict)\n",
    "print(\"Qual a probabilidade do número sair?\")\n",
    "print(\"\\n\")\n",
    "print(\"Probabilidade: \", round((predict_proba[0][0]*100),2), \"%\")"
   ]
  },
  {
   "cell_type": "markdown",
   "metadata": {},
   "source": [
    "# Gerando numero Mega Sena"
   ]
  },
  {
   "cell_type": "code",
   "execution_count": 28,
   "metadata": {},
   "outputs": [],
   "source": [
    "import random"
   ]
  },
  {
   "cell_type": "code",
   "execution_count": 29,
   "metadata": {},
   "outputs": [],
   "source": [
    "random.seed(60)"
   ]
  },
  {
   "cell_type": "code",
   "execution_count": 55,
   "metadata": {},
   "outputs": [
    {
     "name": "stdout",
     "output_type": "stream",
     "text": [
      "Probabilidade de 99 % -> Dezenas: [3, 7, 15, 21, 24, 59]\n"
     ]
    }
   ],
   "source": [
    "probabilidade_boa   = 99\n",
    "probabilidade_atual = 0\n",
    "\n",
    "# Gerando list com as dezenas sorteadas\n",
    "dezenas_sorteadas = df_nn[['primeira_dezena','segunda_dezena', 'terceira_dezena', 'quarta_dezena', 'quinta_dezena', 'sexta_dezena']].values.tolist()\n",
    "\n",
    "# Gera sequencia de numeros até que a probabilidade seja maior ou igual que 99%\n",
    "while(probabilidade_atual < probabilidade_boa):\n",
    "    \n",
    "    # Gera sequencia de número \n",
    "    dezenas_megasena = random.sample(range(1, 60), 6)\n",
    "    \n",
    "    # Numero gerado já foi sorteado?\n",
    "    if not dezenas_megasena in dezenas_sorteadas:\n",
    "\n",
    "        # Valida qual a probabilidade da seguência ser sorteada\n",
    "        probabilidade_atual = int(modelo.predict_proba(pd.DataFrame([dezenas_megasena]))[0][0]*100)\n",
    "    \n",
    "\n",
    "print(\"Probabilidade de {0} % -> Dezenas: {1}\".format(probabilidade_atual, sorted(dezenas_megasena)))   "
   ]
  }
 ],
 "metadata": {
  "kernelspec": {
   "display_name": "python-dev",
   "language": "python",
   "name": "python-dev"
  },
  "language_info": {
   "codemirror_mode": {
    "name": "ipython",
    "version": 3
   },
   "file_extension": ".py",
   "mimetype": "text/x-python",
   "name": "python",
   "nbconvert_exporter": "python",
   "pygments_lexer": "ipython3",
   "version": "3.5.2"
  }
 },
 "nbformat": 4,
 "nbformat_minor": 2
}
